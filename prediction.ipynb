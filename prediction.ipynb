{
  "cells": [
    {
      "metadata": {
        "trusted": true
      },
      "cell_type": "code",
      "source": "import os\nos.listdir()",
      "execution_count": 2,
      "outputs": [
        {
          "output_type": "execute_result",
          "execution_count": 2,
          "data": {
            "text/plain": "['data.csv', 'prediction.ipynb', 'refined_dataset.csv', 'README.md']"
          },
          "metadata": {}
        }
      ]
    },
    {
      "metadata": {
        "trusted": true
      },
      "cell_type": "code",
      "source": "import pandas as pd",
      "execution_count": 3,
      "outputs": []
    },
    {
      "metadata": {
        "trusted": true
      },
      "cell_type": "code",
      "source": "df = pd.read_csv('data.csv',  encoding='iso-8859-1')",
      "execution_count": 4,
      "outputs": [
        {
          "output_type": "stream",
          "text": "/home/nbuser/anaconda3_501/lib/python3.6/site-packages/IPython/core/interactiveshell.py:3020: DtypeWarning: Columns (0) have mixed types. Specify dtype option on import or set low_memory=False.\n  interactivity=interactivity, compiler=compiler, result=result)\n",
          "name": "stderr"
        }
      ]
    },
    {
      "metadata": {
        "trusted": true
      },
      "cell_type": "code",
      "source": "dec_data = df['date']=='2015-12-28'",
      "execution_count": 5,
      "outputs": []
    },
    {
      "metadata": {
        "trusted": true
      },
      "cell_type": "code",
      "source": "df = df.fillna(0)",
      "execution_count": 7,
      "outputs": []
    },
    {
      "metadata": {
        "trusted": true
      },
      "cell_type": "code",
      "source": "",
      "execution_count": 16,
      "outputs": []
    },
    {
      "metadata": {
        "trusted": true
      },
      "cell_type": "code",
      "source": "df[dec_data].head()",
      "execution_count": 8,
      "outputs": [
        {
          "output_type": "execute_result",
          "execution_count": 8,
          "data": {
            "text/html": "<div>\n<style scoped>\n    .dataframe tbody tr th:only-of-type {\n        vertical-align: middle;\n    }\n\n    .dataframe tbody tr th {\n        vertical-align: top;\n    }\n\n    .dataframe thead th {\n        text-align: right;\n    }\n</style>\n<table border=\"1\" class=\"dataframe\">\n  <thead>\n    <tr style=\"text-align: right;\">\n      <th></th>\n      <th>stn_code</th>\n      <th>sampling_date</th>\n      <th>state</th>\n      <th>location</th>\n      <th>agency</th>\n      <th>type</th>\n      <th>so2</th>\n      <th>no2</th>\n      <th>rspm</th>\n      <th>spm</th>\n      <th>location_monitoring_station</th>\n      <th>pm2_5</th>\n      <th>date</th>\n    </tr>\n  </thead>\n  <tbody>\n    <tr>\n      <th>24387</th>\n      <td>389</td>\n      <td>28-12-15</td>\n      <td>Andhra Pradesh</td>\n      <td>Tirupati</td>\n      <td>Andhra Pradesh State Pollution Control Board</td>\n      <td>Sensitive Area</td>\n      <td>5.0</td>\n      <td>10.0</td>\n      <td>61.0</td>\n      <td>0.0</td>\n      <td>Regional Science Centre, Chittoor Bypass Road,...</td>\n      <td>0.0</td>\n      <td>2015-12-28</td>\n    </tr>\n    <tr>\n      <th>24490</th>\n      <td>462</td>\n      <td>28-12-15</td>\n      <td>Andhra Pradesh</td>\n      <td>Vijayawada</td>\n      <td>Andhra Pradesh State Pollution Control Board</td>\n      <td>Residential, Rural and other Areas</td>\n      <td>6.0</td>\n      <td>53.0</td>\n      <td>119.0</td>\n      <td>0.0</td>\n      <td>Benz Circle, Vijayawada</td>\n      <td>0.0</td>\n      <td>2015-12-28</td>\n    </tr>\n    <tr>\n      <th>24598</th>\n      <td>466</td>\n      <td>28-12-15</td>\n      <td>Andhra Pradesh</td>\n      <td>Kurnool</td>\n      <td>Andhra Pradesh State Pollution Control Board</td>\n      <td>Residential, Rural and other Areas</td>\n      <td>5.0</td>\n      <td>12.0</td>\n      <td>75.0</td>\n      <td>0.0</td>\n      <td>Mourya Inn, Kurnool</td>\n      <td>0.0</td>\n      <td>2015-12-28</td>\n    </tr>\n    <tr>\n      <th>24808</th>\n      <td>469</td>\n      <td>28-12-15</td>\n      <td>Andhra Pradesh</td>\n      <td>Vijayawada</td>\n      <td>Andhra Pradesh State Pollution Control Board</td>\n      <td>Industrial Area</td>\n      <td>7.0</td>\n      <td>52.0</td>\n      <td>114.0</td>\n      <td>0.0</td>\n      <td>Autonagar, Vijayawada</td>\n      <td>0.0</td>\n      <td>2015-12-28</td>\n    </tr>\n    <tr>\n      <th>25013</th>\n      <td>580</td>\n      <td>28-12-15</td>\n      <td>Andhra Pradesh</td>\n      <td>Nellore</td>\n      <td>Andhra Pradesh State Pollution Control Board</td>\n      <td>Residential, Rural and other Areas</td>\n      <td>5.0</td>\n      <td>28.0</td>\n      <td>61.0</td>\n      <td>0.0</td>\n      <td>Venkatareddy nagar, Vedayapalem, Nellore</td>\n      <td>0.0</td>\n      <td>2015-12-28</td>\n    </tr>\n  </tbody>\n</table>\n</div>",
            "text/plain": "      stn_code sampling_date           state    location  \\\n24387      389      28-12-15  Andhra Pradesh    Tirupati   \n24490      462      28-12-15  Andhra Pradesh  Vijayawada   \n24598      466      28-12-15  Andhra Pradesh     Kurnool   \n24808      469      28-12-15  Andhra Pradesh  Vijayawada   \n25013      580      28-12-15  Andhra Pradesh     Nellore   \n\n                                             agency  \\\n24387  Andhra Pradesh State Pollution Control Board   \n24490  Andhra Pradesh State Pollution Control Board   \n24598  Andhra Pradesh State Pollution Control Board   \n24808  Andhra Pradesh State Pollution Control Board   \n25013  Andhra Pradesh State Pollution Control Board   \n\n                                     type  so2   no2   rspm  spm  \\\n24387                      Sensitive Area  5.0  10.0   61.0  0.0   \n24490  Residential, Rural and other Areas  6.0  53.0  119.0  0.0   \n24598  Residential, Rural and other Areas  5.0  12.0   75.0  0.0   \n24808                     Industrial Area  7.0  52.0  114.0  0.0   \n25013  Residential, Rural and other Areas  5.0  28.0   61.0  0.0   \n\n                             location_monitoring_station  pm2_5        date  \n24387  Regional Science Centre, Chittoor Bypass Road,...    0.0  2015-12-28  \n24490                            Benz Circle, Vijayawada    0.0  2015-12-28  \n24598                                Mourya Inn, Kurnool    0.0  2015-12-28  \n24808                              Autonagar, Vijayawada    0.0  2015-12-28  \n25013           Venkatareddy nagar, Vedayapalem, Nellore    0.0  2015-12-28  "
          },
          "metadata": {}
        }
      ]
    },
    {
      "metadata": {
        "trusted": true
      },
      "cell_type": "code",
      "source": "type(df)",
      "execution_count": 11,
      "outputs": [
        {
          "output_type": "execute_result",
          "execution_count": 11,
          "data": {
            "text/plain": "pandas.core.frame.DataFrame"
          },
          "metadata": {}
        }
      ]
    },
    {
      "metadata": {
        "trusted": true
      },
      "cell_type": "code",
      "source": "df.head()",
      "execution_count": 15,
      "outputs": [
        {
          "output_type": "execute_result",
          "execution_count": 15,
          "data": {
            "text/html": "<div>\n<style scoped>\n    .dataframe tbody tr th:only-of-type {\n        vertical-align: middle;\n    }\n\n    .dataframe tbody tr th {\n        vertical-align: top;\n    }\n\n    .dataframe thead th {\n        text-align: right;\n    }\n</style>\n<table border=\"1\" class=\"dataframe\">\n  <thead>\n    <tr style=\"text-align: right;\">\n      <th></th>\n      <th>stn_code</th>\n      <th>sampling_date</th>\n      <th>state</th>\n      <th>location</th>\n      <th>agency</th>\n      <th>type</th>\n      <th>so2</th>\n      <th>no2</th>\n      <th>rspm</th>\n      <th>spm</th>\n      <th>location_monitoring_station</th>\n      <th>pm2_5</th>\n      <th>date</th>\n    </tr>\n  </thead>\n  <tbody>\n    <tr>\n      <th>0</th>\n      <td>150</td>\n      <td>February - M021990</td>\n      <td>Andhra Pradesh</td>\n      <td>Hyderabad</td>\n      <td>NaN</td>\n      <td>Residential, Rural and other Areas</td>\n      <td>4.8</td>\n      <td>17.4</td>\n      <td>NaN</td>\n      <td>NaN</td>\n      <td>NaN</td>\n      <td>NaN</td>\n      <td>1990-02-01</td>\n    </tr>\n    <tr>\n      <th>1</th>\n      <td>151</td>\n      <td>February - M021990</td>\n      <td>Andhra Pradesh</td>\n      <td>Hyderabad</td>\n      <td>NaN</td>\n      <td>Industrial Area</td>\n      <td>3.1</td>\n      <td>7.0</td>\n      <td>NaN</td>\n      <td>NaN</td>\n      <td>NaN</td>\n      <td>NaN</td>\n      <td>1990-02-01</td>\n    </tr>\n    <tr>\n      <th>2</th>\n      <td>152</td>\n      <td>February - M021990</td>\n      <td>Andhra Pradesh</td>\n      <td>Hyderabad</td>\n      <td>NaN</td>\n      <td>Residential, Rural and other Areas</td>\n      <td>6.2</td>\n      <td>28.5</td>\n      <td>NaN</td>\n      <td>NaN</td>\n      <td>NaN</td>\n      <td>NaN</td>\n      <td>1990-02-01</td>\n    </tr>\n    <tr>\n      <th>3</th>\n      <td>150</td>\n      <td>March - M031990</td>\n      <td>Andhra Pradesh</td>\n      <td>Hyderabad</td>\n      <td>NaN</td>\n      <td>Residential, Rural and other Areas</td>\n      <td>6.3</td>\n      <td>14.7</td>\n      <td>NaN</td>\n      <td>NaN</td>\n      <td>NaN</td>\n      <td>NaN</td>\n      <td>1990-03-01</td>\n    </tr>\n    <tr>\n      <th>4</th>\n      <td>151</td>\n      <td>March - M031990</td>\n      <td>Andhra Pradesh</td>\n      <td>Hyderabad</td>\n      <td>NaN</td>\n      <td>Industrial Area</td>\n      <td>4.7</td>\n      <td>7.5</td>\n      <td>NaN</td>\n      <td>NaN</td>\n      <td>NaN</td>\n      <td>NaN</td>\n      <td>1990-03-01</td>\n    </tr>\n  </tbody>\n</table>\n</div>",
            "text/plain": "  stn_code       sampling_date           state   location agency  \\\n0      150  February - M021990  Andhra Pradesh  Hyderabad    NaN   \n1      151  February - M021990  Andhra Pradesh  Hyderabad    NaN   \n2      152  February - M021990  Andhra Pradesh  Hyderabad    NaN   \n3      150     March - M031990  Andhra Pradesh  Hyderabad    NaN   \n4      151     March - M031990  Andhra Pradesh  Hyderabad    NaN   \n\n                                 type  so2   no2  rspm  spm  \\\n0  Residential, Rural and other Areas  4.8  17.4   NaN  NaN   \n1                     Industrial Area  3.1   7.0   NaN  NaN   \n2  Residential, Rural and other Areas  6.2  28.5   NaN  NaN   \n3  Residential, Rural and other Areas  6.3  14.7   NaN  NaN   \n4                     Industrial Area  4.7   7.5   NaN  NaN   \n\n  location_monitoring_station  pm2_5        date  \n0                         NaN    NaN  1990-02-01  \n1                         NaN    NaN  1990-02-01  \n2                         NaN    NaN  1990-02-01  \n3                         NaN    NaN  1990-03-01  \n4                         NaN    NaN  1990-03-01  "
          },
          "metadata": {}
        }
      ]
    },
    {
      "metadata": {
        "trusted": true
      },
      "cell_type": "code",
      "source": "df.columns",
      "execution_count": 17,
      "outputs": [
        {
          "output_type": "execute_result",
          "execution_count": 17,
          "data": {
            "text/plain": "Index(['stn_code', 'sampling_date', 'state', 'location', 'agency', 'type',\n       'so2', 'no2', 'rspm', 'spm', 'location_monitoring_station', 'pm2_5',\n       'date'],\n      dtype='object')"
          },
          "metadata": {}
        }
      ]
    },
    {
      "metadata": {
        "trusted": true
      },
      "cell_type": "code",
      "source": "df = df.drop(columns = ['sampling_date'])",
      "execution_count": 20,
      "outputs": []
    },
    {
      "metadata": {
        "trusted": true
      },
      "cell_type": "code",
      "source": "df.columns",
      "execution_count": 21,
      "outputs": [
        {
          "output_type": "execute_result",
          "execution_count": 21,
          "data": {
            "text/plain": "Index(['stn_code', 'state', 'location', 'agency', 'type', 'so2', 'no2', 'rspm',\n       'spm', 'location_monitoring_station', 'pm2_5', 'date'],\n      dtype='object')"
          },
          "metadata": {}
        }
      ]
    },
    {
      "metadata": {
        "trusted": true
      },
      "cell_type": "code",
      "source": "df = df.drop(columns=['stn_code', 'location', 'agency', 'type', 'location_monitoring_station'])",
      "execution_count": 29,
      "outputs": [
        {
          "output_type": "error",
          "ename": "KeyError",
          "evalue": "\"['stn_code' 'location' 'agency' 'type' 'location_monitoring_station'] not found in axis\"",
          "traceback": [
            "\u001b[0;31m---------------------------------------------------------------------------\u001b[0m",
            "\u001b[0;31mKeyError\u001b[0m                                  Traceback (most recent call last)",
            "\u001b[0;32m<ipython-input-29-cbfa94af5f6a>\u001b[0m in \u001b[0;36m<module>\u001b[0;34m\u001b[0m\n\u001b[0;32m----> 1\u001b[0;31m \u001b[0mdf\u001b[0m \u001b[0;34m=\u001b[0m \u001b[0mdf\u001b[0m\u001b[0;34m.\u001b[0m\u001b[0mdrop\u001b[0m\u001b[0;34m(\u001b[0m\u001b[0mcolumns\u001b[0m\u001b[0;34m=\u001b[0m\u001b[0;34m[\u001b[0m\u001b[0;34m'stn_code'\u001b[0m\u001b[0;34m,\u001b[0m \u001b[0;34m'location'\u001b[0m\u001b[0;34m,\u001b[0m \u001b[0;34m'agency'\u001b[0m\u001b[0;34m,\u001b[0m \u001b[0;34m'type'\u001b[0m\u001b[0;34m,\u001b[0m \u001b[0;34m'location_monitoring_station'\u001b[0m\u001b[0;34m]\u001b[0m\u001b[0;34m)\u001b[0m\u001b[0;34m\u001b[0m\u001b[0m\n\u001b[0m",
            "\u001b[0;32m~/anaconda3_501/lib/python3.6/site-packages/pandas/core/frame.py\u001b[0m in \u001b[0;36mdrop\u001b[0;34m(self, labels, axis, index, columns, level, inplace, errors)\u001b[0m\n\u001b[1;32m   3695\u001b[0m                                            \u001b[0mindex\u001b[0m\u001b[0;34m=\u001b[0m\u001b[0mindex\u001b[0m\u001b[0;34m,\u001b[0m \u001b[0mcolumns\u001b[0m\u001b[0;34m=\u001b[0m\u001b[0mcolumns\u001b[0m\u001b[0;34m,\u001b[0m\u001b[0;34m\u001b[0m\u001b[0m\n\u001b[1;32m   3696\u001b[0m                                            \u001b[0mlevel\u001b[0m\u001b[0;34m=\u001b[0m\u001b[0mlevel\u001b[0m\u001b[0;34m,\u001b[0m \u001b[0minplace\u001b[0m\u001b[0;34m=\u001b[0m\u001b[0minplace\u001b[0m\u001b[0;34m,\u001b[0m\u001b[0;34m\u001b[0m\u001b[0m\n\u001b[0;32m-> 3697\u001b[0;31m                                            errors=errors)\n\u001b[0m\u001b[1;32m   3698\u001b[0m \u001b[0;34m\u001b[0m\u001b[0m\n\u001b[1;32m   3699\u001b[0m     @rewrite_axis_style_signature('mapper', [('copy', True),\n",
            "\u001b[0;32m~/anaconda3_501/lib/python3.6/site-packages/pandas/core/generic.py\u001b[0m in \u001b[0;36mdrop\u001b[0;34m(self, labels, axis, index, columns, level, inplace, errors)\u001b[0m\n\u001b[1;32m   3109\u001b[0m         \u001b[0;32mfor\u001b[0m \u001b[0maxis\u001b[0m\u001b[0;34m,\u001b[0m \u001b[0mlabels\u001b[0m \u001b[0;32min\u001b[0m \u001b[0maxes\u001b[0m\u001b[0;34m.\u001b[0m\u001b[0mitems\u001b[0m\u001b[0;34m(\u001b[0m\u001b[0;34m)\u001b[0m\u001b[0;34m:\u001b[0m\u001b[0;34m\u001b[0m\u001b[0m\n\u001b[1;32m   3110\u001b[0m             \u001b[0;32mif\u001b[0m \u001b[0mlabels\u001b[0m \u001b[0;32mis\u001b[0m \u001b[0;32mnot\u001b[0m \u001b[0;32mNone\u001b[0m\u001b[0;34m:\u001b[0m\u001b[0;34m\u001b[0m\u001b[0m\n\u001b[0;32m-> 3111\u001b[0;31m                 \u001b[0mobj\u001b[0m \u001b[0;34m=\u001b[0m \u001b[0mobj\u001b[0m\u001b[0;34m.\u001b[0m\u001b[0m_drop_axis\u001b[0m\u001b[0;34m(\u001b[0m\u001b[0mlabels\u001b[0m\u001b[0;34m,\u001b[0m \u001b[0maxis\u001b[0m\u001b[0;34m,\u001b[0m \u001b[0mlevel\u001b[0m\u001b[0;34m=\u001b[0m\u001b[0mlevel\u001b[0m\u001b[0;34m,\u001b[0m \u001b[0merrors\u001b[0m\u001b[0;34m=\u001b[0m\u001b[0merrors\u001b[0m\u001b[0;34m)\u001b[0m\u001b[0;34m\u001b[0m\u001b[0m\n\u001b[0m\u001b[1;32m   3112\u001b[0m \u001b[0;34m\u001b[0m\u001b[0m\n\u001b[1;32m   3113\u001b[0m         \u001b[0;32mif\u001b[0m \u001b[0minplace\u001b[0m\u001b[0;34m:\u001b[0m\u001b[0;34m\u001b[0m\u001b[0m\n",
            "\u001b[0;32m~/anaconda3_501/lib/python3.6/site-packages/pandas/core/generic.py\u001b[0m in \u001b[0;36m_drop_axis\u001b[0;34m(self, labels, axis, level, errors)\u001b[0m\n\u001b[1;32m   3141\u001b[0m                 \u001b[0mnew_axis\u001b[0m \u001b[0;34m=\u001b[0m \u001b[0maxis\u001b[0m\u001b[0;34m.\u001b[0m\u001b[0mdrop\u001b[0m\u001b[0;34m(\u001b[0m\u001b[0mlabels\u001b[0m\u001b[0;34m,\u001b[0m \u001b[0mlevel\u001b[0m\u001b[0;34m=\u001b[0m\u001b[0mlevel\u001b[0m\u001b[0;34m,\u001b[0m \u001b[0merrors\u001b[0m\u001b[0;34m=\u001b[0m\u001b[0merrors\u001b[0m\u001b[0;34m)\u001b[0m\u001b[0;34m\u001b[0m\u001b[0m\n\u001b[1;32m   3142\u001b[0m             \u001b[0;32melse\u001b[0m\u001b[0;34m:\u001b[0m\u001b[0;34m\u001b[0m\u001b[0m\n\u001b[0;32m-> 3143\u001b[0;31m                 \u001b[0mnew_axis\u001b[0m \u001b[0;34m=\u001b[0m \u001b[0maxis\u001b[0m\u001b[0;34m.\u001b[0m\u001b[0mdrop\u001b[0m\u001b[0;34m(\u001b[0m\u001b[0mlabels\u001b[0m\u001b[0;34m,\u001b[0m \u001b[0merrors\u001b[0m\u001b[0;34m=\u001b[0m\u001b[0merrors\u001b[0m\u001b[0;34m)\u001b[0m\u001b[0;34m\u001b[0m\u001b[0m\n\u001b[0m\u001b[1;32m   3144\u001b[0m             \u001b[0mresult\u001b[0m \u001b[0;34m=\u001b[0m \u001b[0mself\u001b[0m\u001b[0;34m.\u001b[0m\u001b[0mreindex\u001b[0m\u001b[0;34m(\u001b[0m\u001b[0;34m**\u001b[0m\u001b[0;34m{\u001b[0m\u001b[0maxis_name\u001b[0m\u001b[0;34m:\u001b[0m \u001b[0mnew_axis\u001b[0m\u001b[0;34m}\u001b[0m\u001b[0;34m)\u001b[0m\u001b[0;34m\u001b[0m\u001b[0m\n\u001b[1;32m   3145\u001b[0m \u001b[0;34m\u001b[0m\u001b[0m\n",
            "\u001b[0;32m~/anaconda3_501/lib/python3.6/site-packages/pandas/core/indexes/base.py\u001b[0m in \u001b[0;36mdrop\u001b[0;34m(self, labels, errors)\u001b[0m\n\u001b[1;32m   4402\u001b[0m             \u001b[0;32mif\u001b[0m \u001b[0merrors\u001b[0m \u001b[0;34m!=\u001b[0m \u001b[0;34m'ignore'\u001b[0m\u001b[0;34m:\u001b[0m\u001b[0;34m\u001b[0m\u001b[0m\n\u001b[1;32m   4403\u001b[0m                 raise KeyError(\n\u001b[0;32m-> 4404\u001b[0;31m                     '{} not found in axis'.format(labels[mask]))\n\u001b[0m\u001b[1;32m   4405\u001b[0m             \u001b[0mindexer\u001b[0m \u001b[0;34m=\u001b[0m \u001b[0mindexer\u001b[0m\u001b[0;34m[\u001b[0m\u001b[0;34m~\u001b[0m\u001b[0mmask\u001b[0m\u001b[0;34m]\u001b[0m\u001b[0;34m\u001b[0m\u001b[0m\n\u001b[1;32m   4406\u001b[0m         \u001b[0;32mreturn\u001b[0m \u001b[0mself\u001b[0m\u001b[0;34m.\u001b[0m\u001b[0mdelete\u001b[0m\u001b[0;34m(\u001b[0m\u001b[0mindexer\u001b[0m\u001b[0;34m)\u001b[0m\u001b[0;34m\u001b[0m\u001b[0m\n",
            "\u001b[0;31mKeyError\u001b[0m: \"['stn_code' 'location' 'agency' 'type' 'location_monitoring_station'] not found in axis\""
          ]
        }
      ]
    },
    {
      "metadata": {
        "trusted": true
      },
      "cell_type": "code",
      "source": "df = df.fillna(0)",
      "execution_count": 31,
      "outputs": []
    },
    {
      "metadata": {
        "trusted": true
      },
      "cell_type": "code",
      "source": "df_new = df.groupby(['state', 'date'])",
      "execution_count": 36,
      "outputs": []
    },
    {
      "metadata": {
        "trusted": true
      },
      "cell_type": "code",
      "source": "gdf=df_new.mean()",
      "execution_count": 39,
      "outputs": []
    },
    {
      "metadata": {
        "trusted": true
      },
      "cell_type": "code",
      "source": "def calculate_si(so2):\n    si=0\n    if (so2<=40):\n     si= so2*(50/40)\n    if (so2>40 and so2<=80):\n     si= 50+(so2-40)*(50/40)\n    if (so2>80 and so2<=380):\n     si= 100+(so2-80)*(100/300)\n    if (so2>380 and so2<=800):\n     si= 200+(so2-380)*(100/800)\n    if (so2>800 and so2<=1600):\n     si= 300+(so2-800)*(100/800)\n    if (so2>1600):\n     si= 400+(so2-1600)*(100/800)\n    return si",
      "execution_count": 41,
      "outputs": []
    },
    {
      "metadata": {
        "trusted": true
      },
      "cell_type": "code",
      "source": "gdf['si']=gdf['so2'].apply(calculate_si)",
      "execution_count": 43,
      "outputs": []
    },
    {
      "metadata": {
        "trusted": true
      },
      "cell_type": "code",
      "source": "def calculate_ni(no2):\n    ni=0\n    if(no2<=40):\n     ni= no2*50/40\n    elif(no2>40 and no2<=80):\n     ni= 50+(no2-14)*(50/40)\n    elif(no2>80 and no2<=180):\n     ni= 100+(no2-80)*(100/100)\n    elif(no2>180 and no2<=280):\n     ni= 200+(no2-180)*(100/100)\n    elif(no2>280 and no2<=400):\n     ni= 300+(no2-280)*(100/120)\n    else:\n     ni= 400+(no2-400)*(100/120)\n    return ni\ngdf['ni']=gdf['no2'].apply(calculate_ni)\n",
      "execution_count": 44,
      "outputs": []
    },
    {
      "metadata": {
        "trusted": true
      },
      "cell_type": "code",
      "source": "gdf.head()",
      "execution_count": 45,
      "outputs": [
        {
          "output_type": "execute_result",
          "execution_count": 45,
          "data": {
            "text/html": "<div>\n<style scoped>\n    .dataframe tbody tr th:only-of-type {\n        vertical-align: middle;\n    }\n\n    .dataframe tbody tr th {\n        vertical-align: top;\n    }\n\n    .dataframe thead th {\n        text-align: right;\n    }\n</style>\n<table border=\"1\" class=\"dataframe\">\n  <thead>\n    <tr style=\"text-align: right;\">\n      <th></th>\n      <th></th>\n      <th>so2</th>\n      <th>no2</th>\n      <th>rspm</th>\n      <th>spm</th>\n      <th>pm2_5</th>\n      <th>si</th>\n      <th>ni</th>\n    </tr>\n    <tr>\n      <th>state</th>\n      <th>date</th>\n      <th></th>\n      <th></th>\n      <th></th>\n      <th></th>\n      <th></th>\n      <th></th>\n      <th></th>\n    </tr>\n  </thead>\n  <tbody>\n    <tr>\n      <th rowspan=\"5\" valign=\"top\">Andhra Pradesh</th>\n      <th>1990-02-01</th>\n      <td>4.700000</td>\n      <td>17.633333</td>\n      <td>0.0</td>\n      <td>0.000000</td>\n      <td>0.0</td>\n      <td>5.875000</td>\n      <td>22.041667</td>\n    </tr>\n    <tr>\n      <th>1990-03-01</th>\n      <td>5.800000</td>\n      <td>15.966667</td>\n      <td>0.0</td>\n      <td>0.000000</td>\n      <td>0.0</td>\n      <td>7.250000</td>\n      <td>19.958333</td>\n    </tr>\n    <tr>\n      <th>1990-04-01</th>\n      <td>4.766667</td>\n      <td>16.266667</td>\n      <td>0.0</td>\n      <td>0.000000</td>\n      <td>0.0</td>\n      <td>5.958333</td>\n      <td>20.333333</td>\n    </tr>\n    <tr>\n      <th>1990-05-01</th>\n      <td>3.800000</td>\n      <td>13.750000</td>\n      <td>0.0</td>\n      <td>0.000000</td>\n      <td>0.0</td>\n      <td>4.750000</td>\n      <td>17.187500</td>\n    </tr>\n    <tr>\n      <th>1990-06-01</th>\n      <td>4.266667</td>\n      <td>15.066667</td>\n      <td>0.0</td>\n      <td>108.666667</td>\n      <td>0.0</td>\n      <td>5.333333</td>\n      <td>18.833333</td>\n    </tr>\n  </tbody>\n</table>\n</div>",
            "text/plain": "                                so2        no2  rspm         spm  pm2_5  \\\nstate          date                                                       \nAndhra Pradesh 1990-02-01  4.700000  17.633333   0.0    0.000000    0.0   \n               1990-03-01  5.800000  15.966667   0.0    0.000000    0.0   \n               1990-04-01  4.766667  16.266667   0.0    0.000000    0.0   \n               1990-05-01  3.800000  13.750000   0.0    0.000000    0.0   \n               1990-06-01  4.266667  15.066667   0.0  108.666667    0.0   \n\n                                 si         ni  \nstate          date                             \nAndhra Pradesh 1990-02-01  5.875000  22.041667  \n               1990-03-01  7.250000  19.958333  \n               1990-04-01  5.958333  20.333333  \n               1990-05-01  4.750000  17.187500  \n               1990-06-01  5.333333  18.833333  "
          },
          "metadata": {}
        }
      ]
    },
    {
      "metadata": {
        "trusted": true
      },
      "cell_type": "code",
      "source": "def calculate_rspm(rspm):\n    rpi=0\n    if(rpi<=30):\n     rpi=rpi*50/30\n    elif(rpi>30 and rpi<=60):\n     rpi=50+(rpi-30)*50/30\n    elif(rpi>60 and rpi<=90):\n     rpi=100+(rpi-60)*100/30\n    elif(rpi>90 and rpi<=120):\n     rpi=200+(rpi-90)*100/30\n    elif(rpi>120 and rpi<=250):\n     rpi=300+(rpi-120)*(100/130)\n    else:\n     rpi=400+(rpi-250)*(100/130)\n    return rpi\ngdf['rpi']=gdf['rspm'].apply(calculate_rspm)",
      "execution_count": 46,
      "outputs": []
    },
    {
      "metadata": {
        "trusted": true
      },
      "cell_type": "code",
      "source": "gdf.head()",
      "execution_count": 47,
      "outputs": [
        {
          "output_type": "execute_result",
          "execution_count": 47,
          "data": {
            "text/html": "<div>\n<style scoped>\n    .dataframe tbody tr th:only-of-type {\n        vertical-align: middle;\n    }\n\n    .dataframe tbody tr th {\n        vertical-align: top;\n    }\n\n    .dataframe thead th {\n        text-align: right;\n    }\n</style>\n<table border=\"1\" class=\"dataframe\">\n  <thead>\n    <tr style=\"text-align: right;\">\n      <th></th>\n      <th></th>\n      <th>so2</th>\n      <th>no2</th>\n      <th>rspm</th>\n      <th>spm</th>\n      <th>pm2_5</th>\n      <th>si</th>\n      <th>ni</th>\n      <th>rpi</th>\n    </tr>\n    <tr>\n      <th>state</th>\n      <th>date</th>\n      <th></th>\n      <th></th>\n      <th></th>\n      <th></th>\n      <th></th>\n      <th></th>\n      <th></th>\n      <th></th>\n    </tr>\n  </thead>\n  <tbody>\n    <tr>\n      <th rowspan=\"5\" valign=\"top\">Andhra Pradesh</th>\n      <th>1990-02-01</th>\n      <td>4.700000</td>\n      <td>17.633333</td>\n      <td>0.0</td>\n      <td>0.000000</td>\n      <td>0.0</td>\n      <td>5.875000</td>\n      <td>22.041667</td>\n      <td>0.0</td>\n    </tr>\n    <tr>\n      <th>1990-03-01</th>\n      <td>5.800000</td>\n      <td>15.966667</td>\n      <td>0.0</td>\n      <td>0.000000</td>\n      <td>0.0</td>\n      <td>7.250000</td>\n      <td>19.958333</td>\n      <td>0.0</td>\n    </tr>\n    <tr>\n      <th>1990-04-01</th>\n      <td>4.766667</td>\n      <td>16.266667</td>\n      <td>0.0</td>\n      <td>0.000000</td>\n      <td>0.0</td>\n      <td>5.958333</td>\n      <td>20.333333</td>\n      <td>0.0</td>\n    </tr>\n    <tr>\n      <th>1990-05-01</th>\n      <td>3.800000</td>\n      <td>13.750000</td>\n      <td>0.0</td>\n      <td>0.000000</td>\n      <td>0.0</td>\n      <td>4.750000</td>\n      <td>17.187500</td>\n      <td>0.0</td>\n    </tr>\n    <tr>\n      <th>1990-06-01</th>\n      <td>4.266667</td>\n      <td>15.066667</td>\n      <td>0.0</td>\n      <td>108.666667</td>\n      <td>0.0</td>\n      <td>5.333333</td>\n      <td>18.833333</td>\n      <td>0.0</td>\n    </tr>\n  </tbody>\n</table>\n</div>",
            "text/plain": "                                so2        no2  rspm         spm  pm2_5  \\\nstate          date                                                       \nAndhra Pradesh 1990-02-01  4.700000  17.633333   0.0    0.000000    0.0   \n               1990-03-01  5.800000  15.966667   0.0    0.000000    0.0   \n               1990-04-01  4.766667  16.266667   0.0    0.000000    0.0   \n               1990-05-01  3.800000  13.750000   0.0    0.000000    0.0   \n               1990-06-01  4.266667  15.066667   0.0  108.666667    0.0   \n\n                                 si         ni  rpi  \nstate          date                                  \nAndhra Pradesh 1990-02-01  5.875000  22.041667  0.0  \n               1990-03-01  7.250000  19.958333  0.0  \n               1990-04-01  5.958333  20.333333  0.0  \n               1990-05-01  4.750000  17.187500  0.0  \n               1990-06-01  5.333333  18.833333  0.0  "
          },
          "metadata": {}
        }
      ]
    },
    {
      "metadata": {
        "trusted": true
      },
      "cell_type": "code",
      "source": "def calculate_spi(spm):\n    spi=0\n    if(spm<=50):\n     spi=spm\n    if(spm<50 and spm<=100):\n     spi=spm\n    elif(spm>100 and spm<=250):\n     spi= 100+(spm-100)*(100/150)\n    elif(spm>250 and spm<=350):\n     spi=200+(spm-250)\n    elif(spm>350 and spm<=450):\n     spi=300+(spm-350)*(100/80)\n    else:\n     spi=400+(spm-430)*(100/80)\n    return spi\ngdf['spi']=gdf['spm'].apply(calculate_spi)",
      "execution_count": 48,
      "outputs": []
    },
    {
      "metadata": {
        "trusted": true
      },
      "cell_type": "code",
      "source": "def calculate_aqi(si,ni,spi,rpi):\n    aqi=0\n    if(si>ni and si>spi and si>rpi):\n     aqi=si\n    if(spi>si and spi>ni and spi>rpi):\n     aqi=spi\n    if(ni>si and ni>spi and ni>rpi):\n     aqi=ni\n    if(rpi>si and rpi>ni and rpi>spi):\n     aqi=rpi\n    return aqi\ngdf['AQI']=gdf.apply(lambda x:calculate_aqi(x['si'],x['ni'],x['spi'],x['rpi']),axis=1)",
      "execution_count": 49,
      "outputs": []
    },
    {
      "metadata": {
        "trusted": true
      },
      "cell_type": "code",
      "source": "gdf.head()",
      "execution_count": 50,
      "outputs": [
        {
          "output_type": "execute_result",
          "execution_count": 50,
          "data": {
            "text/html": "<div>\n<style scoped>\n    .dataframe tbody tr th:only-of-type {\n        vertical-align: middle;\n    }\n\n    .dataframe tbody tr th {\n        vertical-align: top;\n    }\n\n    .dataframe thead th {\n        text-align: right;\n    }\n</style>\n<table border=\"1\" class=\"dataframe\">\n  <thead>\n    <tr style=\"text-align: right;\">\n      <th></th>\n      <th></th>\n      <th>so2</th>\n      <th>no2</th>\n      <th>rspm</th>\n      <th>spm</th>\n      <th>pm2_5</th>\n      <th>si</th>\n      <th>ni</th>\n      <th>rpi</th>\n      <th>spi</th>\n      <th>AQI</th>\n    </tr>\n    <tr>\n      <th>state</th>\n      <th>date</th>\n      <th></th>\n      <th></th>\n      <th></th>\n      <th></th>\n      <th></th>\n      <th></th>\n      <th></th>\n      <th></th>\n      <th></th>\n      <th></th>\n    </tr>\n  </thead>\n  <tbody>\n    <tr>\n      <th rowspan=\"5\" valign=\"top\">Andhra Pradesh</th>\n      <th>1990-02-01</th>\n      <td>4.700000</td>\n      <td>17.633333</td>\n      <td>0.0</td>\n      <td>0.000000</td>\n      <td>0.0</td>\n      <td>5.875000</td>\n      <td>22.041667</td>\n      <td>0.0</td>\n      <td>0.000000</td>\n      <td>22.041667</td>\n    </tr>\n    <tr>\n      <th>1990-03-01</th>\n      <td>5.800000</td>\n      <td>15.966667</td>\n      <td>0.0</td>\n      <td>0.000000</td>\n      <td>0.0</td>\n      <td>7.250000</td>\n      <td>19.958333</td>\n      <td>0.0</td>\n      <td>0.000000</td>\n      <td>19.958333</td>\n    </tr>\n    <tr>\n      <th>1990-04-01</th>\n      <td>4.766667</td>\n      <td>16.266667</td>\n      <td>0.0</td>\n      <td>0.000000</td>\n      <td>0.0</td>\n      <td>5.958333</td>\n      <td>20.333333</td>\n      <td>0.0</td>\n      <td>0.000000</td>\n      <td>20.333333</td>\n    </tr>\n    <tr>\n      <th>1990-05-01</th>\n      <td>3.800000</td>\n      <td>13.750000</td>\n      <td>0.0</td>\n      <td>0.000000</td>\n      <td>0.0</td>\n      <td>4.750000</td>\n      <td>17.187500</td>\n      <td>0.0</td>\n      <td>0.000000</td>\n      <td>17.187500</td>\n    </tr>\n    <tr>\n      <th>1990-06-01</th>\n      <td>4.266667</td>\n      <td>15.066667</td>\n      <td>0.0</td>\n      <td>108.666667</td>\n      <td>0.0</td>\n      <td>5.333333</td>\n      <td>18.833333</td>\n      <td>0.0</td>\n      <td>105.777778</td>\n      <td>105.777778</td>\n    </tr>\n  </tbody>\n</table>\n</div>",
            "text/plain": "                                so2        no2  rspm         spm  pm2_5  \\\nstate          date                                                       \nAndhra Pradesh 1990-02-01  4.700000  17.633333   0.0    0.000000    0.0   \n               1990-03-01  5.800000  15.966667   0.0    0.000000    0.0   \n               1990-04-01  4.766667  16.266667   0.0    0.000000    0.0   \n               1990-05-01  3.800000  13.750000   0.0    0.000000    0.0   \n               1990-06-01  4.266667  15.066667   0.0  108.666667    0.0   \n\n                                 si         ni  rpi         spi         AQI  \nstate          date                                                          \nAndhra Pradesh 1990-02-01  5.875000  22.041667  0.0    0.000000   22.041667  \n               1990-03-01  7.250000  19.958333  0.0    0.000000   19.958333  \n               1990-04-01  5.958333  20.333333  0.0    0.000000   20.333333  \n               1990-05-01  4.750000  17.187500  0.0    0.000000   17.187500  \n               1990-06-01  5.333333  18.833333  0.0  105.777778  105.777778  "
          },
          "metadata": {}
        }
      ]
    },
    {
      "metadata": {
        "trusted": true
      },
      "cell_type": "code",
      "source": "gdf.to_csv('./refined_dataset.csv')",
      "execution_count": 52,
      "outputs": []
    },
    {
      "metadata": {
        "trusted": true
      },
      "cell_type": "code",
      "source": "os.listdir()",
      "execution_count": 53,
      "outputs": [
        {
          "output_type": "execute_result",
          "execution_count": 53,
          "data": {
            "text/plain": "['README.md', 'refined_dataset.csv', 'prediction.ipynb', 'data.csv']"
          },
          "metadata": {}
        }
      ]
    },
    {
      "metadata": {
        "trusted": true
      },
      "cell_type": "code",
      "source": "df",
      "execution_count": 1,
      "outputs": [
        {
          "output_type": "error",
          "ename": "NameError",
          "evalue": "name 'df' is not defined",
          "traceback": [
            "\u001b[0;31m---------------------------------------------------------------------------\u001b[0m",
            "\u001b[0;31mNameError\u001b[0m                                 Traceback (most recent call last)",
            "\u001b[0;32m<ipython-input-1-00cf07b74dcd>\u001b[0m in \u001b[0;36m<module>\u001b[0;34m\u001b[0m\n\u001b[0;32m----> 1\u001b[0;31m \u001b[0mdf\u001b[0m\u001b[0;34m\u001b[0m\u001b[0m\n\u001b[0m",
            "\u001b[0;31mNameError\u001b[0m: name 'df' is not defined"
          ]
        }
      ]
    }
  ],
  "metadata": {
    "kernelspec": {
      "name": "python36",
      "display_name": "Python 3.6",
      "language": "python"
    },
    "language_info": {
      "mimetype": "text/x-python",
      "nbconvert_exporter": "python",
      "name": "python",
      "pygments_lexer": "ipython3",
      "version": "3.6.6",
      "file_extension": ".py",
      "codemirror_mode": {
        "version": 3,
        "name": "ipython"
      }
    }
  },
  "nbformat": 4,
  "nbformat_minor": 2
}